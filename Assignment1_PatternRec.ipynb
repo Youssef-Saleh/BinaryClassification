{
 "cells": [
  {
   "cell_type": "code",
   "execution_count": 1,
   "metadata": {},
   "outputs": [],
   "source": [
    "import numpy as np\n",
    "import sys\n",
    "import math\n",
    "import random\n",
    "from numpy.linalg import norm\n",
    "\n",
    "from sklearn.datasets import make_classification\n",
    "import matplotlib.pyplot as plt\n",
    "from sklearn.model_selection import train_test_split\n",
    "\n",
    "from sklearn.metrics import accuracy_score\n"
   ]
  },
  {
   "cell_type": "code",
   "execution_count": 2,
   "metadata": {},
   "outputs": [],
   "source": [
    "'''\n",
    "def batch_perceptron ( X , Y , lr = 1, iterations = np.inf ):\n",
    "\n",
    "Parameters: \n",
    "    X , Y : numpy arrays\n",
    "    lr : learning rate (optional) (Default = 1)\n",
    "    iterations: How long it'll run for  (optional) (Default = infinity)\n",
    "    \n",
    "Returns: w , delta_array , epochs\n",
    "    w : array_like \n",
    "            Last updated weight \n",
    "    delta_array : array_like (list)\n",
    "            An array containing all the significant deltas\n",
    "    epochs : int\n",
    "            Count of how many times the algorithm passed through the entire data set (iterations)\n",
    "            Also represents how many times the weight changed itself\n",
    "    \n",
    "'''\n",
    "def batch_perceptron ( X , Y , lr = 1, iterations = np.inf ):\n",
    "    n = X.shape[1]\n",
    "    w = np.random.uniform(low = -1, high = 1, size = (n,))\n",
    "    #w = np.zeros(n)\n",
    "    e = sys.float_info.epsilon\n",
    "\n",
    "    delta = np.ones(n)\n",
    "\n",
    "    delta_array = [ ]\n",
    "    epochs = 0\n",
    "    \n",
    "    while ( norm(delta,1) > e):\n",
    "        \n",
    "        delta = np.zeros(n)\n",
    "        \n",
    "        for i in range(len(X)):\n",
    "            \n",
    "            u = w.dot(X[i])\n",
    "            if Y[i] * u <= 0:\n",
    "                delta = delta - ( Y[i] * X[i] )\n",
    "                \n",
    "                \n",
    "        delta = delta/len(X)\n",
    "        epochs += 1\n",
    "        delta_array.append(norm(delta,1))\n",
    "        w = w - (lr * delta)\n",
    "            \n",
    "  \n",
    "        if len(delta_array) == iterations: # forcefully break due to stuck in while loop because delta\n",
    "            break\n",
    "            \n",
    "            \n",
    "    return w , delta_array , epochs"
   ]
  },
  {
   "cell_type": "code",
   "execution_count": 3,
   "metadata": {},
   "outputs": [],
   "source": [
    "'''\n",
    "def online_batch_perceptron ( X , Y , lr = 1, iterations = np.inf ):\n",
    "\n",
    "Parameters: \n",
    "    X , Y : numpy arrays\n",
    "    lr : learning rate (optional) (Default = 1)\n",
    "    iterations: How long it'll run for  (optional) (Default = infinity)\n",
    "    \n",
    "Returns: w , w_steps, delta_array , epochs\n",
    "    w : array_like \n",
    "            last updated weight \n",
    "    w_steps : int\n",
    "            count of how many times weight updated itself\n",
    "    delta_array : array_like (list)\n",
    "            an array containing all the significant deltas\n",
    "    epochs : int\n",
    "            count of how many times the algorithm passed through the entire data set (iterations)\n",
    "    \n",
    "'''\n",
    "\n",
    "def online_batch_perceptron ( X , Y , lr = 1, iterations = np.inf):\n",
    "    n = X.shape[1]\n",
    "    w = np.random.uniform(low = -1, high = 1, size = (n,))\n",
    "    #w = np.zeros(n)\n",
    "    e = sys.float_info.epsilon\n",
    "   \n",
    "    delta = np.ones(n)\n",
    "    w_steps = 0\n",
    "    \n",
    "    delta_array = [ ]\n",
    "    epochs = 0\n",
    "    \n",
    "    \n",
    "    while ( norm(delta,1) > e):\n",
    "        \n",
    "        ChangedWeightsCheck = False\n",
    "        delta = np.zeros(n)\n",
    "        \n",
    "        for i in range(len(X)):\n",
    "            \n",
    "            u = w.dot(X[i])\n",
    "            if Y[i] * u <= 0:\n",
    "                delta = delta - ( Y[i] * X[i] )\n",
    "                delta = delta/len(X)\n",
    "                \n",
    "                w = w - (lr * delta)\n",
    "                \n",
    "                delta_array.append((norm(delta,1)))\n",
    "                w_steps += 1\n",
    "                ChangedWeightsCheck = True\n",
    "                \n",
    "                \n",
    "                \n",
    "        epochs += 1 \n",
    "        \n",
    "        if ChangedWeightsCheck == False: # forcefully break because delta has reached zero\n",
    "            delta_array.append((norm(delta,1)))\n",
    "            break\n",
    "            \n",
    "        if epochs == iterations : # forcefully break due to stuck in while loop because delta\n",
    "            break\n",
    "        \n",
    "                \n",
    "                \n",
    "    return w , w_steps, delta_array , epochs"
   ]
  },
  {
   "cell_type": "code",
   "execution_count": 4,
   "metadata": {},
   "outputs": [],
   "source": [
    "sign = lambda x: math.copysign(1,x)"
   ]
  },
  {
   "cell_type": "code",
   "execution_count": 5,
   "metadata": {},
   "outputs": [],
   "source": [
    "# Problem 1 - Data with Bias\n",
    "\n",
    "X = np.array([[50 , 55 , 70 , 80 , 130 , 150 , 155 , 160],\n",
    "             [1 , 1 , 1 , 1 , 1 , 1 , 1 , 1]]).T\n",
    "\n",
    "Y = np.array([1 , 1 , 1 , 1 , -1, -1 , -1 , -1])\n"
   ]
  },
  {
   "cell_type": "code",
   "execution_count": 6,
   "metadata": {},
   "outputs": [
    {
     "name": "stdout",
     "output_type": "stream",
     "text": [
      "Comparing Each Y predict to its counterpart of Y true \n",
      "\n",
      "1.0 Compared to : 1\n",
      "1.0 Compared to : 1\n",
      "1.0 Compared to : 1\n",
      "1.0 Compared to : 1\n",
      "-1.0 Compared to : -1\n",
      "-1.0 Compared to : -1\n",
      "-1.0 Compared to : -1\n",
      "-1.0 Compared to : -1\n"
     ]
    }
   ],
   "source": [
    "# Perceptron Model\n",
    "print( \"Comparing Each Y predict to its counterpart of Y true \\n\")\n",
    "w , delta , epochs  = batch_perceptron( X , Y )\n",
    "\n",
    "y_pred = [ ]\n",
    "for i in range(len(X)):\n",
    "    y_pred.append( sign( w.dot(X[i]) ) ) \n",
    "    print( str(sign( w.dot(X[i]) )) + \" Compared to : \" + str(Y[i]))\n",
    "\n",
    "\n",
    "    \n"
   ]
  },
  {
   "cell_type": "code",
   "execution_count": 7,
   "metadata": {},
   "outputs": [
    {
     "name": "stdout",
     "output_type": "stream",
     "text": [
      "For Batch Perceptron : Problem 1 \n",
      "\n",
      "Epochs iterations: 2531\n",
      "\n",
      "Number of times model weight changed 2531\n",
      "\n",
      "Count of Significant delta changes: 2531\n",
      "\n"
     ]
    },
    {
     "data": {
      "image/png": "[encoded data removed]",
      "text/plain": [
       "<Figure size 432x288 with 1 Axes>"
      ]
     },
     "metadata": {
      "needs_background": "light"
     },
     "output_type": "display_data"
    }
   ],
   "source": [
    "print(\"For Batch Perceptron : Problem 1 \\n\")\n",
    "# Number of epochs\n",
    "print(\"Epochs iterations: \" + str(epochs) + \"\\n\")\n",
    "# Number of times each algorithm updated model weights \n",
    "print(\"Number of times model weight changed \"  + str(epochs) + \"\\n\")\n",
    "# Calculating changes of delta iterations\n",
    "x2 = [ ]\n",
    "for i in range(len(delta)):\n",
    "    x2.append( delta[i] )\n",
    "    \n",
    "x1 = np.arange(0,len(x2))\n",
    "print(\"Count of Significant delta changes: \"  + str(len(x2)) + \"\\n\")\n",
    "if len(x2) != 1:\n",
    "    plt.plot( x1, x2 ,'.k-' , linewidth = 0.2)\n",
    "else:\n",
    "    print( \"Delta did not change, no need for plot\")"
   ]
  },
  {
   "cell_type": "code",
   "execution_count": 8,
   "metadata": {},
   "outputs": [
    {
     "name": "stdout",
     "output_type": "stream",
     "text": [
      "Comparing Each Y predict to its counterpart of Y true \n",
      "\n",
      "1.0 Compared to : 1\n",
      "1.0 Compared to : 1\n",
      "1.0 Compared to : 1\n",
      "1.0 Compared to : 1\n",
      "-1.0 Compared to : -1\n",
      "-1.0 Compared to : -1\n",
      "-1.0 Compared to : -1\n",
      "-1.0 Compared to : -1\n"
     ]
    }
   ],
   "source": [
    "# Online Perceptron\n",
    "print( \"Comparing Each Y predict to its counterpart of Y true \\n\")\n",
    "w , steps , delta , epochs  = online_batch_perceptron( X , Y )\n",
    "\n",
    "y_pred = [ ]\n",
    "for i in range(len(X)):\n",
    "    y_pred.append( sign( w.dot(X[i]) ) ) \n",
    "    print( str(sign( w.dot(X[i]) )) + \" Compared to : \" + str(Y[i]))\n",
    "    \n",
    "\n",
    "\n",
    "    \n",
    "\n"
   ]
  },
  {
   "cell_type": "code",
   "execution_count": 9,
   "metadata": {},
   "outputs": [
    {
     "name": "stdout",
     "output_type": "stream",
     "text": [
      "For Online Perceptron : Problem 1 \n",
      "\n",
      "Epochs iterations: 84\n",
      "\n",
      "Number of times model weight changed: 255\n",
      "\n",
      "Count of Significant delta changes: 256\n",
      "\n"
     ]
    },
    {
     "data": {
      "image/png": "[encoded data removed]",
      "text/plain": [
       "<Figure size 432x288 with 1 Axes>"
      ]
     },
     "metadata": {
      "needs_background": "light"
     },
     "output_type": "display_data"
    }
   ],
   "source": [
    "print(\"For Online Perceptron : Problem 1 \\n\")\n",
    "# Number of epochs\n",
    "print(\"Epochs iterations: \" + str(epochs) + \"\\n\")\n",
    "# Number of times each algorithm updated model weights \n",
    "print(\"Number of times model weight changed: \" + str(steps) + \"\\n\")\n",
    "# Calculating changes of delta iterations\n",
    "x2 = [ ]\n",
    "for i in range(len(delta)):\n",
    "    x2.append( delta[i]  )\n",
    "    \n",
    "x1 = np.arange(0,len(x2))\n",
    "print(\"Count of Significant delta changes: \"  + str(len(x2)) + \"\\n\")\n",
    "if len(x2) != 1:\n",
    "    plt.plot( x1, x2 ,'.k-' , linewidth = 1.2)\n",
    "else:\n",
    "    print( \"Delta did not change, no need for plot\")"
   ]
  },
  {
   "cell_type": "code",
   "execution_count": 10,
   "metadata": {},
   "outputs": [],
   "source": [
    "# Problem 4 - Data with Bias\n",
    "\n",
    "X = np.array([[ 0 , 255 ,  0  ,  0  , 255  ,  0  ,  255  , 255  ],\n",
    "              [ 0 ,  0  , 255 ,  0  , 255  , 255 ,   0   , 255  ],\n",
    "              [ 0 ,  0  ,  0  , 255 ,  0   , 255 ,  255  , 255  ],\n",
    "              [ 1 ,  1  ,  1  ,  1  ,  1   ,  1  ,   1   ,  1   ]]).T\n",
    "\n",
    "\n",
    "Y = np.array([1 , 1 , 1 , -1 , 1 , -1 , -1 , 1])\n",
    "\n"
   ]
  },
  {
   "cell_type": "code",
   "execution_count": 11,
   "metadata": {},
   "outputs": [
    {
     "name": "stdout",
     "output_type": "stream",
     "text": [
      "Comparing Each Y predict to its counterpart of Y true \n",
      "\n",
      "1.0 Compared to : 1\n",
      "1.0 Compared to : 1\n",
      "1.0 Compared to : 1\n",
      "-1.0 Compared to : -1\n",
      "1.0 Compared to : 1\n",
      "-1.0 Compared to : -1\n",
      "-1.0 Compared to : -1\n",
      "1.0 Compared to : 1\n"
     ]
    }
   ],
   "source": [
    "# Perceptron Model\n",
    "print( \"Comparing Each Y predict to its counterpart of Y true \\n\")\n",
    "w , delta , epochs  = batch_perceptron( X , Y )\n",
    "\n",
    "y_pred = [ ]\n",
    "for i in range(len(X)):\n",
    "    y_pred.append( sign( w.dot(X[i]) ) ) \n",
    "    print( str(sign( w.dot(X[i]) )) + \" Compared to : \" + str(Y[i]))"
   ]
  },
  {
   "cell_type": "code",
   "execution_count": 12,
   "metadata": {},
   "outputs": [
    {
     "name": "stdout",
     "output_type": "stream",
     "text": [
      "For Batch Perceptron : Problem 4 \n",
      "\n",
      "Epochs iterations: 8\n",
      "\n",
      "Number of times model weight changed: 8\n",
      "\n",
      "Count of Significant delta changes: 8\n",
      "\n"
     ]
    },
    {
     "data": {
      "image/png": "[encoded data removed]",
      "text/plain": [
       "<Figure size 432x288 with 1 Axes>"
      ]
     },
     "metadata": {
      "needs_background": "light"
     },
     "output_type": "display_data"
    }
   ],
   "source": [
    "print(\"For Batch Perceptron : Problem 4 \\n\")\n",
    "# Number of epochs\n",
    "print(\"Epochs iterations: \" + str(epochs) + \"\\n\")\n",
    "# Number of times each algorithm updated model weights \n",
    "print(\"Number of times model weight changed: \"  + str(epochs) + \"\\n\")\n",
    "# Calculating changes of delta iterations\n",
    "x2 = [ ]\n",
    "for i in range(len(delta)):\n",
    "    x2.append( delta[i]  )\n",
    "    \n",
    "x1 = np.arange(0,len(x2))\n",
    "print(\"Count of Significant delta changes: \"  + str(len(x2)) + \"\\n\")\n",
    "if len(x2) != 1:\n",
    "    plt.plot( x1, x2 ,'ok-' , linewidth = 1.5)\n",
    "else:\n",
    "    print( \"Delta did not change, no need for plot\")"
   ]
  },
  {
   "cell_type": "code",
   "execution_count": 13,
   "metadata": {},
   "outputs": [
    {
     "name": "stdout",
     "output_type": "stream",
     "text": [
      "Comparing Each Y predict to its counterpart of Y true \n",
      "\n",
      "1.0 Compared to : 1\n",
      "1.0 Compared to : 1\n",
      "1.0 Compared to : 1\n",
      "-1.0 Compared to : -1\n",
      "1.0 Compared to : 1\n",
      "-1.0 Compared to : -1\n",
      "-1.0 Compared to : -1\n",
      "1.0 Compared to : 1\n"
     ]
    }
   ],
   "source": [
    "# Online Perceptron\n",
    "print( \"Comparing Each Y predict to its counterpart of Y true \\n\")\n",
    "w , steps , delta , epochs  = online_batch_perceptron( X , Y )\n",
    "\n",
    "y_pred = [ ]\n",
    "for i in range(len(X)):\n",
    "    y_pred.append( sign( w.dot(X[i]) ) ) \n",
    "    print( str(sign( w.dot(X[i]) )) + \" Compared to : \" + str(Y[i]))"
   ]
  },
  {
   "cell_type": "code",
   "execution_count": 14,
   "metadata": {},
   "outputs": [
    {
     "name": "stdout",
     "output_type": "stream",
     "text": [
      "For Online Perceptron : Problem 4 \n",
      "\n",
      "Epochs iterations: 8\n",
      "\n",
      "Number of times model weight changed: 15\n",
      "\n",
      "Count of Significant delta changes: 16\n",
      "\n"
     ]
    },
    {
     "data": {
      "image/png": "[encoded data removed]",
      "text/plain": [
       "<Figure size 432x288 with 1 Axes>"
      ]
     },
     "metadata": {
      "needs_background": "light"
     },
     "output_type": "display_data"
    }
   ],
   "source": [
    "print(\"For Online Perceptron : Problem 4 \\n\")\n",
    "# Number of epochs\n",
    "print(\"Epochs iterations: \" + str(epochs) + \"\\n\")\n",
    "# Number of times each algorithm updated model weights \n",
    "print(\"Number of times model weight changed: \" + str(steps) + \"\\n\")\n",
    "# Calculating changes of delta iterations\n",
    "x2 = [ ]\n",
    "for i in range(len(delta)):\n",
    "    x2.append( delta[i]  )\n",
    "    \n",
    "x1 = np.arange(0,len(x2))\n",
    "print(\"Count of Significant delta changes: \"  + str(len(x2)) + \"\\n\")\n",
    "if len(x2) != 1:\n",
    "    plt.plot( x1, x2 ,'ok-' , linewidth = 1.5)\n",
    "else:\n",
    "    print( \"Delta did not change, no need for plot\")"
   ]
  },
  {
   "cell_type": "code",
   "execution_count": 15,
   "metadata": {},
   "outputs": [],
   "source": [
    "# RANDOM DATA SECTION"
   ]
  },
  {
   "cell_type": "code",
   "execution_count": 16,
   "metadata": {},
   "outputs": [
    {
     "name": "stdout",
     "output_type": "stream",
     "text": [
      "Possible Model Accuracy :  1.0\n"
     ]
    },
    {
     "data": {
      "text/plain": [
       "[<matplotlib.lines.Line2D at 0x2511f41d5e0>]"
      ]
     },
     "execution_count": 16,
     "metadata": {},
     "output_type": "execute_result"
    },
    {
     "data": {
      "image/png": "[encoded data removed]",
      "text/plain": [
       "<Figure size 432x288 with 1 Axes>"
      ]
     },
     "metadata": {
      "needs_background": "light"
     },
     "output_type": "display_data"
    }
   ],
   "source": [
    "# Perceptron Model of Random Data\n",
    "\n",
    "x , y = make_classification(25 , n_features=2 , n_redundant = 0,\n",
    "                            n_informative = 1, n_clusters_per_class = 1)\n",
    "\n",
    "x_stored = x # for some reason x \"is broken\" after the split code\n",
    "\n",
    "mask_for_y = y == 0\n",
    "y[mask_for_y] = - 1\n",
    "\n",
    "plt.scatter(x[:,0],x[:,1],marker='o',c=y,s=25,edgecolor='k')\n",
    "\n",
    "X_train, X_test, Y_train, Y_test = train_test_split(\n",
    "x, y, test_size = 0.25 , train_size = 0.75)\n",
    "\n",
    "w , delta , epochs  = batch_perceptron( X_train , Y_train , iterations = 50)\n",
    "\n",
    "y_pred = [ ]\n",
    "for x in X_test:\n",
    "    y_pred.append( sign( w.dot(x) ) ) \n",
    "    \n",
    "accuracy = accuracy_score(Y_test, y_pred)\n",
    "print(\"Possible Model Accuracy : \",accuracy)\n",
    "\n",
    "# Explaination:  x1w1 = -x2w2 , therefore x2 = x1*(w1/-w2)\n",
    "\n",
    "x1 = np.linspace(X_train.min() , X_train.max())\n",
    "x2 = x1 * (w[0]/-w[1])\n",
    "\n",
    "\n",
    "\n",
    "plt.plot(  x1 , x2 , ls = '--' , linewidth = 1.5)"
   ]
  },
  {
   "cell_type": "code",
   "execution_count": 17,
   "metadata": {
    "scrolled": false
   },
   "outputs": [
    {
     "name": "stdout",
     "output_type": "stream",
     "text": [
      "For Batch Perceptron : \n",
      "\n",
      "Epochs iterations: 2\n",
      "\n",
      "Number of times model weight changed: 2\n",
      "\n",
      "Count of Significant delta changes: 2\n",
      "\n"
     ]
    },
    {
     "data": {
      "image/png": "[encoded data removed]",
      "text/plain": [
       "<Figure size 432x288 with 1 Axes>"
      ]
     },
     "metadata": {
      "needs_background": "light"
     },
     "output_type": "display_data"
    }
   ],
   "source": [
    "print(\"For Batch Perceptron : \\n\")\n",
    "# Number of epochs\n",
    "print(\"Epochs iterations: \" + str(epochs) + \"\\n\")\n",
    "# Number of times each algorithm updated model weights \n",
    "print(\"Number of times model weight changed: \" + str(epochs) + \"\\n\")\n",
    "# Calculating changes of delta iterations\n",
    "x2 = [ ]\n",
    "for i in range(len(delta)):\n",
    "    x2.append( delta[i]  )\n",
    "    \n",
    "x1 = np.arange(0,len(x2))\n",
    "print(\"Count of Significant delta changes: \"  + str(len(x2)) + \"\\n\")\n",
    "if len(x2) != 1:\n",
    "    plt.plot( x1, x2 ,'ok-' , linewidth = 1.5)\n",
    "else:\n",
    "    print( \"Delta did not change, no need for plot\")\n"
   ]
  },
  {
   "cell_type": "code",
   "execution_count": 18,
   "metadata": {},
   "outputs": [
    {
     "name": "stdout",
     "output_type": "stream",
     "text": [
      "Possible Model Accuracy :  1.0\n"
     ]
    },
    {
     "data": {
      "text/plain": [
       "[<matplotlib.lines.Line2D at 0x2511f4e7ac0>]"
      ]
     },
     "execution_count": 18,
     "metadata": {},
     "output_type": "execute_result"
    },
    {
     "data": {
      "image/png": "[encoded data removed]",
      "text/plain": [
       "<Figure size 432x288 with 1 Axes>"
      ]
     },
     "metadata": {
      "needs_background": "light"
     },
     "output_type": "display_data"
    }
   ],
   "source": [
    "# Online Perceptron\n",
    "\n",
    "plt.scatter(x_stored[:,0],x_stored[:,1],marker='o',c=y,s=25,edgecolor='k')\n",
    "w , steps , delta , epochs  = online_batch_perceptron( X_train , Y_train , iterations = 50)\n",
    "\n",
    "y_pred = [ ]\n",
    "for x in X_test:\n",
    "    y_pred.append( sign( w.dot(x) ) ) \n",
    "    \n",
    "accuracy = accuracy_score(Y_test, y_pred)\n",
    "print(\"Possible Model Accuracy : \",accuracy)\n",
    "\n",
    "# Explaination:  x1w1 = -x2w2 , therefore x2 = x1*(w1/-w2)\n",
    "\n",
    "x1 = np.linspace(X_train.min() , X_train.max())\n",
    "x2 = x1 * (w[0]/-w[1])\n",
    "\n",
    "plt.plot(  x1 , x2 , ls = '--' , linewidth = 1.5)"
   ]
  },
  {
   "cell_type": "code",
   "execution_count": 19,
   "metadata": {},
   "outputs": [
    {
     "name": "stdout",
     "output_type": "stream",
     "text": [
      "For Online Perceptron : \n",
      "\n",
      "Epochs iterations: 3\n",
      "\n",
      "Number of times model weight changed: 9\n",
      "\n",
      "Count of Significant delta changes: 10\n",
      "\n"
     ]
    },
    {
     "data": {
      "image/png": "[encoded data removed]",
      "text/plain": [
       "<Figure size 432x288 with 1 Axes>"
      ]
     },
     "metadata": {
      "needs_background": "light"
     },
     "output_type": "display_data"
    }
   ],
   "source": [
    "print(\"For Online Perceptron : \\n\")\n",
    "# Number of epochs\n",
    "print(\"Epochs iterations: \" + str(epochs) + \"\\n\")\n",
    "# Number of times each algorithm updated model weights \n",
    "print(\"Number of times model weight changed: \" + str(steps) + \"\\n\")\n",
    "# Calculating changes of delta iterations\n",
    "x2 = [ ]\n",
    "\n",
    "for i in range(len(delta)):\n",
    "    x2.append( delta[i]  )\n",
    "\n",
    "    \n",
    "x1 = np.arange(0,len(x2))\n",
    "print(\"Count of Significant delta changes: \"  + str(len(x2)) + \"\\n\")\n",
    "if len(x2) != 1:\n",
    "    plt.plot( x1, x2 ,'ok-' , linewidth = 1.5)\n",
    "else:\n",
    "    print( \"Delta did not change, no need for plot\")\n"
   ]
  }
 ],
 "metadata": {
  "kernelspec": {
   "display_name": "Python 3",
   "language": "python",
   "name": "python3"
  },
  "language_info": {
   "codemirror_mode": {
    "name": "ipython",
    "version": 3
   },
   "file_extension": ".py",
   "mimetype": "text/x-python",
   "name": "python",
   "nbconvert_exporter": "python",
   "pygments_lexer": "ipython3",
   "version": "3.8.5"
  }
 },
 "nbformat": 4,
 "nbformat_minor": 4
}
